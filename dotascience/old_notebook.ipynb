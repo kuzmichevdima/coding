{
 "cells": [
  {
   "cell_type": "code",
   "execution_count": 206,
   "metadata": {
    "collapsed": false
   },
   "outputs": [
    {
     "ename": "SyntaxError",
     "evalue": "invalid syntax (<ipython-input-206-e27a0f94b8b0>, line 3)",
     "output_type": "error",
     "traceback": [
      "\u001b[1;36m  File \u001b[1;32m\"<ipython-input-206-e27a0f94b8b0>\"\u001b[1;36m, line \u001b[1;32m3\u001b[0m\n\u001b[1;33m    Загружаем нужные библиотеки.\u001b[0m\n\u001b[1;37m    ^\u001b[0m\n\u001b[1;31mSyntaxError\u001b[0m\u001b[1;31m:\u001b[0m invalid syntax\n"
     ]
    }
   ],
   "source": [
    "# Прогноз результатов матчей на основе TrueSkill\n",
    "\n",
    "Загружаем нужные библиотеки."
   ]
  },
  {
   "cell_type": "code",
   "execution_count": 207,
   "metadata": {
    "collapsed": false
   },
   "outputs": [],
   "source": [
    "import pandas as pd\n",
    "import trueskill\n",
    "\n",
    "from math import sqrt, log\n",
    "from trueskill import BETA\n",
    "from trueskill.backends import cdf"
   ]
  },
  {
   "cell_type": "markdown",
   "metadata": {},
   "source": [
    "Загружаем информацию про результаты игр, скачанную с http://dotascience.com/ и сразу сортируем по Match_ID."
   ]
  },
  {
   "cell_type": "code",
   "execution_count": 6,
   "metadata": {
    "collapsed": false
   },
   "outputs": [
    {
     "name": "stderr",
     "output_type": "stream",
     "text": [
      "/usr/local/lib/python2.7/dist-packages/ipykernel/__main__.py:1: FutureWarning: sort(columns=....) is deprecated, use sort_values(by=.....)\n",
      "  if __name__ == '__main__':\n"
     ]
    }
   ],
   "source": [
    "matches_info = pd.read_csv('selected_team_matches.csv').sort(['match_id'])"
   ]
  },
  {
   "cell_type": "markdown",
   "metadata": {},
   "source": [
    "Инициализируем параметры Trueskill используя параметры по умолчанию, кроме вероятность ничейного результата, у нас не бывает ничьих."
   ]
  },
  {
   "cell_type": "code",
   "execution_count": 208,
   "metadata": {
    "collapsed": false
   },
   "outputs": [
    {
     "data": {
      "text/plain": [
       "trueskill.TrueSkill(mu=25.000, sigma=8.333, beta=4.167, tau=0.083, draw_probability=0.0%)"
      ]
     },
     "execution_count": 208,
     "metadata": {},
     "output_type": "execute_result"
    }
   ],
   "source": [
    "trueskill.setup(draw_probability=0)"
   ]
  },
  {
   "cell_type": "markdown",
   "metadata": {},
   "source": [
    "Создадим словарик, где будем хранить рейтинги. И обучим нашу систему. Для каждого матча мы определим победителя и пересчитаем рейтинги комманд. Если команда раньше не встречалась задаем ей рейтинг по умочанию. В нашей простейшей модели мы считаем, что каждая команда это один виртуальный игрок."
   ]
  },
  {
   "cell_type": "code",
   "execution_count": 209,
   "metadata": {
    "collapsed": false
   },
   "outputs": [
    {
     "ename": "NameError",
     "evalue": "name 'matches_info' is not defined",
     "output_type": "error",
     "traceback": [
      "\u001b[1;31m---------------------------------------------------------------------------\u001b[0m",
      "\u001b[1;31mNameError\u001b[0m                                 Traceback (most recent call last)",
      "\u001b[1;32m<ipython-input-209-6d50a77ab63c>\u001b[0m in \u001b[0;36m<module>\u001b[1;34m()\u001b[0m\n\u001b[0;32m      1\u001b[0m \u001b[0mRates\u001b[0m \u001b[1;33m=\u001b[0m \u001b[1;33m{\u001b[0m\u001b[1;33m}\u001b[0m\u001b[1;33m\u001b[0m\u001b[0m\n\u001b[1;32m----> 2\u001b[1;33m \u001b[1;32mfor\u001b[0m \u001b[0mindex\u001b[0m\u001b[1;33m,\u001b[0m \u001b[0mrow\u001b[0m \u001b[1;32min\u001b[0m \u001b[0mmatches_info\u001b[0m\u001b[1;33m.\u001b[0m\u001b[0miterrows\u001b[0m\u001b[1;33m(\u001b[0m\u001b[1;33m)\u001b[0m\u001b[1;33m:\u001b[0m\u001b[1;33m\u001b[0m\u001b[0m\n\u001b[0m\u001b[0;32m      3\u001b[0m     \u001b[0mteam1\u001b[0m \u001b[1;33m=\u001b[0m \u001b[0mrow\u001b[0m\u001b[1;33m[\u001b[0m\u001b[1;34m'radiant'\u001b[0m\u001b[1;33m]\u001b[0m\u001b[1;33m\u001b[0m\u001b[0m\n\u001b[0;32m      4\u001b[0m     \u001b[0mteam2\u001b[0m \u001b[1;33m=\u001b[0m \u001b[0mrow\u001b[0m\u001b[1;33m[\u001b[0m\u001b[1;34m'dire'\u001b[0m\u001b[1;33m]\u001b[0m\u001b[1;33m\u001b[0m\u001b[0m\n\u001b[0;32m      5\u001b[0m     \u001b[1;32mif\u001b[0m \u001b[0mteam1\u001b[0m \u001b[1;32mnot\u001b[0m \u001b[1;32min\u001b[0m \u001b[0mRates\u001b[0m\u001b[1;33m:\u001b[0m\u001b[1;33m\u001b[0m\u001b[0m\n",
      "\u001b[1;31mNameError\u001b[0m: name 'matches_info' is not defined"
     ]
    }
   ],
   "source": [
    "Rates = {}\n",
    "for index, row in matches_info.iterrows():\n",
    "    team1 = row['radiant']\n",
    "    team2 = row['dire']\n",
    "    if team1 not in Rates:\n",
    "        Rates[team1] = trueskill.Rating()\n",
    "    if team2 not in Rates:\n",
    "        Rates[team2] = trueskill.Rating()\n",
    "    if row['winner'] == 'RADIANT':\n",
    "        Rates[team1], Rates[team2] = trueskill.rate_1vs1(Rates[team1], Rates[team2])\n",
    "    else:\n",
    "        Rates[team2], Rates[team1] = trueskill.rate_1vs1(Rates[team2], Rates[team1])\n",
    "        "
   ]
  },
  {
   "cell_type": "markdown",
   "metadata": {},
   "source": [
    "Теперь мы можем, например, насладится рейтингом команты Virtus.pro, которая скрывается под тагом 'VP 2' "
   ]
  },
  {
   "cell_type": "code",
   "execution_count": 210,
   "metadata": {
    "collapsed": false
   },
   "outputs": [
    {
     "ename": "KeyError",
     "evalue": "'VP 2'",
     "output_type": "error",
     "traceback": [
      "\u001b[1;31m---------------------------------------------------------------------------\u001b[0m",
      "\u001b[1;31mKeyError\u001b[0m                                  Traceback (most recent call last)",
      "\u001b[1;32m<ipython-input-210-25193fb64280>\u001b[0m in \u001b[0;36m<module>\u001b[1;34m()\u001b[0m\n\u001b[1;32m----> 1\u001b[1;33m \u001b[0mRates\u001b[0m\u001b[1;33m[\u001b[0m\u001b[1;34m'VP 2'\u001b[0m\u001b[1;33m]\u001b[0m\u001b[1;33m\u001b[0m\u001b[0m\n\u001b[0m",
      "\u001b[1;31mKeyError\u001b[0m: 'VP 2'"
     ]
    }
   ],
   "source": [
    "Rates['VP 2']"
   ]
  },
  {
   "cell_type": "markdown",
   "metadata": {},
   "source": [
    "Попробуем оценить вероятность победы Virtus.pro, например, в матче с Evil Genius.\n",
    "К сожалению в библиотеке trueskill, нет возможности оценить вероятность, но мы же знаем из описания,\n",
    "что рейтинги тут нормально распределенные. Так что сделаем функцию, которая оценит вероятность, \n",
    "что сила игры первой команды, будет больше чем у второй."
   ]
  },
  {
   "cell_type": "code",
   "execution_count": 211,
   "metadata": {
    "collapsed": true
   },
   "outputs": [],
   "source": [
    "def win_probability(player_rating, opponent_rating):\n",
    "    delta_mu = player_rating.mu - opponent_rating.mu\n",
    "    denom = sqrt(2 * (BETA * BETA) + pow(player_rating.sigma, 2) + pow(opponent_rating.sigma, 2))\n",
    "    return cdf(delta_mu / denom)"
   ]
  },
  {
   "cell_type": "markdown",
   "metadata": {},
   "source": [
    "Ура, теперь мы можем оценить шансы."
   ]
  },
  {
   "cell_type": "code",
   "execution_count": 212,
   "metadata": {
    "collapsed": false
   },
   "outputs": [
    {
     "ename": "KeyError",
     "evalue": "'VP 2'",
     "output_type": "error",
     "traceback": [
      "\u001b[1;31m---------------------------------------------------------------------------\u001b[0m",
      "\u001b[1;31mKeyError\u001b[0m                                  Traceback (most recent call last)",
      "\u001b[1;32m<ipython-input-212-33967e37983a>\u001b[0m in \u001b[0;36m<module>\u001b[1;34m()\u001b[0m\n\u001b[1;32m----> 1\u001b[1;33m \u001b[0mwin_probability\u001b[0m\u001b[1;33m(\u001b[0m\u001b[0mRates\u001b[0m\u001b[1;33m[\u001b[0m\u001b[1;34m'VP 2'\u001b[0m\u001b[1;33m]\u001b[0m\u001b[1;33m,\u001b[0m \u001b[0mRates\u001b[0m\u001b[1;33m[\u001b[0m\u001b[1;34m'EG'\u001b[0m\u001b[1;33m]\u001b[0m\u001b[1;33m)\u001b[0m\u001b[1;33m\u001b[0m\u001b[0m\n\u001b[0m",
      "\u001b[1;31mKeyError\u001b[0m: 'VP 2'"
     ]
    }
   ],
   "source": [
    "win_probability(Rates['VP 2'], Rates['EG'])"
   ]
  },
  {
   "cell_type": "code",
   "execution_count": 213,
   "metadata": {
    "collapsed": false
   },
   "outputs": [
    {
     "name": "stdout",
     "output_type": "stream",
     "text": [
      "      id       localized_name                      name\n",
      "0      1            Anti-Mage                  antimage\n",
      "1      2                  Axe                       axe\n",
      "2      3                 Bane                      bane\n",
      "3      4          Bloodseeker               bloodseeker\n",
      "4      5       Crystal Maiden            crystal_maiden\n",
      "5      6          Drow Ranger               drow_ranger\n",
      "6      7          Earthshaker               earthshaker\n",
      "7      8           Juggernaut                juggernaut\n",
      "8      9               Mirana                    mirana\n",
      "9     11         Shadow Fiend                 nevermore\n",
      "10    10            Morphling                 morphling\n",
      "11    12       Phantom Lancer            phantom_lancer\n",
      "12    13                 Puck                      puck\n",
      "13    14                Pudge                     pudge\n",
      "14    15                Razor                     razor\n",
      "15    16            Sand King                 sand_king\n",
      "16    17         Storm Spirit              storm_spirit\n",
      "17    18                 Sven                      sven\n",
      "18    19                 Tiny                      tiny\n",
      "19    20      Vengeful Spirit            vengefulspirit\n",
      "20    21           Windranger                windrunner\n",
      "21    22                 Zeus                      zuus\n",
      "22    23               Kunkka                    kunkka\n",
      "23    25                 Lina                      lina\n",
      "24    31                 Lich                      lich\n",
      "25    26                 Lion                      lion\n",
      "26    27        Shadow Shaman             shadow_shaman\n",
      "27    28              Slardar                   slardar\n",
      "28    29           Tidehunter                tidehunter\n",
      "29    30         Witch Doctor              witch_doctor\n",
      "..   ...                  ...                       ...\n",
      "82    84            Ogre Magi                 ogre_magi\n",
      "83    85              Undying                   undying\n",
      "84    86               Rubick                    rubick\n",
      "85    87            Disruptor                 disruptor\n",
      "86    88         Nyx Assassin              nyx_assassin\n",
      "87    89           Naga Siren                naga_siren\n",
      "88    90  Keeper of the Light       keeper_of_the_light\n",
      "89    91                 Wisp                      wisp\n",
      "90    92               Visage                    visage\n",
      "91    93                Slark                     slark\n",
      "92    94               Medusa                    medusa\n",
      "93    95        Troll Warlord             troll_warlord\n",
      "94    96    Centaur Warrunner                   centaur\n",
      "95    97               Magnus                 magnataur\n",
      "96    98            Timbersaw                  shredder\n",
      "97    99          Bristleback               bristleback\n",
      "98   100                 Tusk                      tusk\n",
      "99   101        Skywrath Mage             skywrath_mage\n",
      "100  102              Abaddon                   abaddon\n",
      "101  103          Elder Titan               elder_titan\n",
      "102  104     Legion Commander          legion_commander\n",
      "103  106         Ember Spirit              ember_spirit\n",
      "104  107         Earth Spirit              earth_spirit\n",
      "105  108    Abyssal Underlord         abyssal_underlord\n",
      "106  109          Terrorblade               terrorblade\n",
      "107  110              Phoenix                   phoenix\n",
      "108  105              Techies                   techies\n",
      "109  111               Oracle                    oracle\n",
      "110  112        Winter Wyvern             winter_wyvern\n",
      "111  113           Arc Warden  npc_dota_hero_arc_warden\n",
      "\n",
      "[112 rows x 3 columns]\n"
     ]
    }
   ],
   "source": [
    "heroes_csv = pd.read_csv('heroes.csv')\n",
    "print(heroes_csv)\n"
   ]
  },
  {
   "cell_type": "code",
   "execution_count": 214,
   "metadata": {
    "collapsed": false
   },
   "outputs": [],
   "source": [
    "import requests\n",
    "api_key = 'E80C0BAEE50452950C911FA18788536F'"
   ]
  },
  {
   "cell_type": "code",
   "execution_count": 215,
   "metadata": {
    "collapsed": false,
    "scrolled": true
   },
   "outputs": [],
   "source": [
    "#resp = requests.get('http://alchemist.dotascience.com/api/matches', headers={'Key': api_key})\n",
    "#json_object = json.load(resp)"
   ]
  },
  {
   "cell_type": "code",
   "execution_count": 216,
   "metadata": {
    "collapsed": false
   },
   "outputs": [],
   "source": [
    "heroes_dict_name_by_id = {}\n",
    "heroes_dict_id_by_name = {}\n",
    "for l in heroes_csv.iterrows():\n",
    "    #print(l)\n",
    "    heroes_dict_name_by_id[l[1]['id']] = l[1]['localized_name']\n",
    "    heroes_dict_id_by_name[l[1]['localized_name']] = l[1]['id']\n",
    "    \n",
    "#heroes_dict"
   ]
  },
  {
   "cell_type": "code",
   "execution_count": 217,
   "metadata": {
    "collapsed": false
   },
   "outputs": [],
   "source": [
    "import json\n",
    "X_train = []\n",
    "Y_train = []\n",
    "iter_num = 0\n",
    "bad_count = 0\n",
    "with open('selected_team_match_info.jsonlines', 'r') as matches_file:\n",
    "    for line in matches_file:\n",
    "        #print('iteration', iter_num)\n",
    "        #print(line)\n",
    "        match = json.loads(line)\n",
    "        #print(match['match_id'])\n",
    "        if (not 'picks_bans' in match) or (not 'radiant_win' in match):\n",
    "            bad_count += 1\n",
    "            continue\n",
    "        radiant_win = match['radiant_win']\n",
    "        \n",
    "        list_radiant = []\n",
    "        list_dire = []\n",
    "        \n",
    "        for pick_info in match['picks_bans']:\n",
    "            if pick_info['is_pick'] == False:\n",
    "                #print('BAN')\n",
    "                continue\n",
    "            #else:\n",
    "                #print('PICK')\n",
    "            side_radiant_flag = (pick_info['team'] == 0)\n",
    "            hero_id = pick_info['hero_id']\n",
    "            hero_name = heroes_dict_name_by_id[hero_id]\n",
    "            if side_radiant_flag:\n",
    "                list_radiant.append(hero_id)\n",
    "            else:\n",
    "                list_dire.append(hero_id)\n",
    "            #print(pick_info)\n",
    "        #print(match['picks_bans'])\n",
    "        list_radiant = sorted(list_radiant)\n",
    "        list_dire = sorted(list_dire)\n",
    "        \n",
    "        #print('Radiant', list_radiant)\n",
    "        #print('Dire', list_dire)\n",
    "        #print('flag', radiant_win)\n",
    "        X_train.append(list_radiant + list_dire)\n",
    "        Y_train.append(radiant_win)\n",
    "        iter_num += 1\n",
    "        # Обработка матча\n",
    "        #\n",
    "#print(len(X_train))\n"
   ]
  },
  {
   "cell_type": "code",
   "execution_count": 218,
   "metadata": {
    "collapsed": false
   },
   "outputs": [
    {
     "name": "stdout",
     "output_type": "stream",
     "text": [
      "(216, 2908)\n"
     ]
    }
   ],
   "source": [
    "print(bad_count, len(X_train))"
   ]
  },
  {
   "cell_type": "code",
   "execution_count": 219,
   "metadata": {
    "collapsed": true
   },
   "outputs": [],
   "source": [
    "from sklearn.neighbors import KDTree\n",
    "import numpy as np\n",
    "import warnings\n",
    "warnings.filterwarnings('ignore')"
   ]
  },
  {
   "cell_type": "code",
   "execution_count": 271,
   "metadata": {
    "collapsed": false
   },
   "outputs": [],
   "source": [
    "\n",
    "class KDNN():\n",
    "    def __init__(self):\n",
    "        pass\n",
    "    def fit(self, X_train, Y_train):\n",
    "        self.X_train = X_train\n",
    "        self.Y_train = Y_train\n",
    "        return self\n",
    "    def predict(self, X_test, k):\n",
    "        num_test_objects = X_test.shape[0]\n",
    "                #print(\"num_test_objects = \" + str(num_test_objects))\n",
    "        y_pred = np.zeros(num_test_objects)\n",
    "        for i in range(num_test_objects):\n",
    "            dist = []\n",
    "            for train_elem in range(len(self.X_train)):\n",
    "                d = 0\n",
    "                for j in range(len(self.X_train[train_elem])):\n",
    "                    if self.X_train[train_elem][j] != X_test[i][j]:\n",
    "                        d += 1\n",
    "                dist.append(d)\n",
    "                #print(\"iteration \" + str(i))\n",
    "            dist = np.array(dist)\n",
    "            indexes = dist.argsort()[:k]\n",
    "            #print(\"dist:\")\n",
    "            #print(dist)\n",
    "            sum = 0\n",
    "            #assert len(ind[0]) == k + 1\n",
    "            #assert len(dist) == k + 1\n",
    "            for index in indexes:\n",
    "                #print(\"j = \" + str(j))\n",
    "                sum += self.Y_train[index]\n",
    "            y_pred[i] = sum * 1.0 / k\n",
    "        #print(\"len of y_pred = \" + str(len(y_pred)), y_pred)\n",
    "        assert len(y_pred) == num_test_objects\n",
    "        return y_pred"
   ]
  },
  {
   "cell_type": "code",
   "execution_count": 264,
   "metadata": {
    "collapsed": true
   },
   "outputs": [],
   "source": [
    "def RSS(right_ans, predicted):\n",
    "    result = 0\n",
    "    for j in range(len(right_ans)):\n",
    "        result += (predicted[j] - right_ans[j]) ** 2\n",
    "    return result"
   ]
  },
  {
   "cell_type": "code",
   "execution_count": 265,
   "metadata": {
    "collapsed": false
   },
   "outputs": [],
   "source": [
    "def cross_validation(X, y, k, cv_fold=5):\n",
    "    scores = []\n",
    "    n = len(X)\n",
    "    rnd_parts = np.random.randint(0, cv_fold, size=n)\n",
    "    #print(rnd_parts)\n",
    "    parts_x = [[] for x in range(cv_fold)]\n",
    "    #print(parts_x)\n",
    "    parts_y = [[] for x in range(cv_fold)]\n",
    "    for j in range(n):\n",
    "        parts_x[rnd_parts[j]].append(X[j])\n",
    "        parts_y[rnd_parts[j]].append(y[j])\n",
    "    for test_part in range(cv_fold):\n",
    "        X_train = []\n",
    "        Y_train = []\n",
    "        for part in range(cv_fold):\n",
    "            if test_part != part:\n",
    "                X_train += parts_x[part]\n",
    "                Y_train += parts_y[part]\n",
    "        knn = KDNN()\n",
    "        knn = knn.fit(np.asarray(X_train), np.asarray(Y_train))\n",
    "        predicted = knn.predict(np.asarray(parts_x[test_part]), k)\n",
    "        #assert len(predicted) == len(parts_x[test_part]), str(len(predicted)) + \"!= \" + str(len(parts_x[test_part]))\n",
    "        #print(\"test x len = \" + str(len(parts_x[test_part])))\n",
    "        #plot_image(np.asarray(parts_x[test_part][0]))\n",
    "        #print(parts_x[test_part])\n",
    "        #print(\"y_pred len = \" + str(len(predicted)))\n",
    "        #print(predicted)\n",
    "        rss = RSS(parts_y[test_part], predicted)\n",
    "        #print(\"acc = \" + str(acc))\n",
    "        scores.append(rss)\n",
    "    return np.mean(scores)\n"
   ]
  },
  {
   "cell_type": "code",
   "execution_count": 266,
   "metadata": {
    "collapsed": true
   },
   "outputs": [],
   "source": [
    "#make main KNN\n",
    "knn = KDNN()\n",
    "knn = knn.fit(X_train, Y_train)"
   ]
  },
  {
   "cell_type": "code",
   "execution_count": 267,
   "metadata": {
    "collapsed": false
   },
   "outputs": [],
   "source": [
    "def test_model_1ex(radiant_names, dire_names, k):\n",
    "    radiant = []\n",
    "    dire = []\n",
    "    for name in radiant_names:\n",
    "        radiant.append(heroes_dict_id_by_name[name])\n",
    "    for name in dire_names:\n",
    "        dire.append(heroes_dict_id_by_name[name])\n",
    "    radiant = sorted(radiant)\n",
    "    dire = sorted(dire)\n",
    "    X_test = [radiant + dire]\n",
    "    predict_res = knn.predict(np.asarray(X_test), k)\n",
    "    return predict_res"
   ]
  },
  {
   "cell_type": "code",
   "execution_count": null,
   "metadata": {
    "collapsed": false
   },
   "outputs": [],
   "source": [
    "import bz2\n",
    "import json\n",
    "import pprint\n",
    "#print(heroes_csv[1])\n",
    "calculated_matches = {}\n",
    "with bz2.BZ2File('shanghai_live_league_games.jsonlines.bz2') as f: \n",
    "    for line in f:\n",
    "        record = json.loads(line)\n",
    "        #print(record)\n",
    "        if 'scoreboard' in record:\n",
    "            duration = record['scoreboard']['duration']\n",
    "        elif 'duration' in record:\n",
    "            duration = record['duration']\n",
    "        else:\n",
    "            continue\n",
    "        if duration < 300:\n",
    "            continue\n",
    "        match_id = int(record['match_id'])\n",
    "        #print('match id   ' + str(match_id))\n",
    "        if match_id in calculated_matches:\n",
    "            continue\n",
    "        calculated_matches[match_id] = 1\n",
    "        print(\"radiant name \" + str(record['radiant_team']['team_name']))\n",
    "        print(\"dire name \" + str(record['dire_team']['team_name']))\n",
    "        \n",
    "        \n",
    "        radiant_list = []\n",
    "        dire_list = []\n",
    "        #pprint.pprint(record)\n",
    "        match_id = record['match_id']\n",
    "        for pl in record['players']:\n",
    "            if pl['team'] <= 1:\n",
    "                hero_id = pl['hero_id']\n",
    "                assert hero_id != 0\n",
    "                if pl['team'] == 0:\n",
    "                    radiant_list.append(hero_id)\n",
    "                else:\n",
    "                    dire_list.append(hero_id)\n",
    "                #print(heroes_dict_name_by_id[pl['hero_id']], pl['name'])\n",
    "                #print(pl['hero_id'], pl['name'])   \n",
    "        X_test = radiant_list + dire_list\n",
    "        #print('X_test')\n",
    "        #for j in X_test:\n",
    "        #    print(heroes_dict_name_by_id[j])\n",
    "        y_pred = knn.predict(np.asarray([X_test]), 50)\n",
    "        print(\"predicted: \" + str(y_pred))\n",
    "        #break\n",
    "        # process record"
   ]
  },
  {
   "cell_type": "code",
   "execution_count": 269,
   "metadata": {
    "collapsed": false
   },
   "outputs": [
    {
     "data": {
      "text/plain": [
       "array([ 0.4])"
      ]
     },
     "execution_count": 269,
     "metadata": {},
     "output_type": "execute_result"
    }
   ],
   "source": [
    "radiant_names = ['Earth Spirit', 'Lion', 'Invoker', 'Slark', 'Beastmaster']\n",
    "dire_names = ['Rubick', 'Death Prophet', 'Tusk', 'Nature\\'s Prophet', 'Outworld Devourer']\n",
    "test_model_1ex(radiant_names, dire_names, 15)"
   ]
  },
  {
   "cell_type": "code",
   "execution_count": null,
   "metadata": {
    "collapsed": true
   },
   "outputs": [],
   "source": [
    "radiant_names = ['Earth Spirit', 'Lion', 'Invoker', 'Slark', 'Beastmaster']\n",
    "dire_names = ['Rubick', 'Death Prophet', 'Tusk', 'Nature\\'s Prophet', 'Outworld Devourer']\n",
    "test_model_1ex(radiant_names, dire_names)"
   ]
  },
  {
   "cell_type": "code",
   "execution_count": 274,
   "metadata": {
    "collapsed": false
   },
   "outputs": [
    {
     "name": "stdout",
     "output_type": "stream",
     "text": [
      "2908\n"
     ]
    }
   ],
   "source": [
    "#print(len(X_train))"
   ]
  },
  {
   "cell_type": "code",
   "execution_count": 273,
   "metadata": {
    "collapsed": false
   },
   "outputs": [
    {
     "ename": "KeyboardInterrupt",
     "evalue": "",
     "output_type": "error",
     "traceback": [
      "\u001b[1;31m---------------------------------------------------------------------------\u001b[0m",
      "\u001b[1;31mKeyboardInterrupt\u001b[0m                         Traceback (most recent call last)",
      "\u001b[1;32m<ipython-input-273-90be5198d5c5>\u001b[0m in \u001b[0;36m<module>\u001b[1;34m()\u001b[0m\n\u001b[0;32m      3\u001b[0m \u001b[0mall_res\u001b[0m \u001b[1;33m=\u001b[0m \u001b[1;33m{\u001b[0m\u001b[1;33m}\u001b[0m\u001b[1;33m\u001b[0m\u001b[0m\n\u001b[0;32m      4\u001b[0m \u001b[1;32mfor\u001b[0m \u001b[0mk\u001b[0m \u001b[1;32min\u001b[0m \u001b[0mrange\u001b[0m\u001b[1;33m(\u001b[0m\u001b[1;36m1\u001b[0m\u001b[1;33m,\u001b[0m \u001b[1;36m20\u001b[0m\u001b[1;33m)\u001b[0m\u001b[1;33m:\u001b[0m\u001b[1;33m\u001b[0m\u001b[0m\n\u001b[1;32m----> 5\u001b[1;33m     \u001b[0mcv_res\u001b[0m \u001b[1;33m=\u001b[0m \u001b[0mcross_validation\u001b[0m\u001b[1;33m(\u001b[0m\u001b[0mX_train\u001b[0m\u001b[1;33m,\u001b[0m \u001b[0mY_train\u001b[0m\u001b[1;33m,\u001b[0m \u001b[0mk\u001b[0m\u001b[1;33m)\u001b[0m\u001b[1;33m\u001b[0m\u001b[0m\n\u001b[0m\u001b[0;32m      6\u001b[0m     \u001b[1;32mprint\u001b[0m\u001b[1;33m(\u001b[0m\u001b[1;34m\"k = \"\u001b[0m \u001b[1;33m+\u001b[0m \u001b[0mstr\u001b[0m\u001b[1;33m(\u001b[0m\u001b[0mk\u001b[0m\u001b[1;33m)\u001b[0m \u001b[1;33m+\u001b[0m \u001b[1;34m\" cv_res = \"\u001b[0m \u001b[1;33m+\u001b[0m \u001b[0mstr\u001b[0m\u001b[1;33m(\u001b[0m\u001b[0mcv_res\u001b[0m\u001b[1;33m)\u001b[0m\u001b[1;33m)\u001b[0m\u001b[1;33m\u001b[0m\u001b[0m\n\u001b[0;32m      7\u001b[0m     \u001b[0mall_res\u001b[0m\u001b[1;33m[\u001b[0m\u001b[0mk\u001b[0m\u001b[1;33m]\u001b[0m \u001b[1;33m=\u001b[0m \u001b[0mcv_res\u001b[0m\u001b[1;33m\u001b[0m\u001b[0m\n",
      "\u001b[1;32m<ipython-input-265-401cd828003c>\u001b[0m in \u001b[0;36mcross_validation\u001b[1;34m(X, y, k, cv_fold)\u001b[0m\n\u001b[0;32m     19\u001b[0m         \u001b[0mknn\u001b[0m \u001b[1;33m=\u001b[0m \u001b[0mKDNN\u001b[0m\u001b[1;33m(\u001b[0m\u001b[1;33m)\u001b[0m\u001b[1;33m\u001b[0m\u001b[0m\n\u001b[0;32m     20\u001b[0m         \u001b[0mknn\u001b[0m \u001b[1;33m=\u001b[0m \u001b[0mknn\u001b[0m\u001b[1;33m.\u001b[0m\u001b[0mfit\u001b[0m\u001b[1;33m(\u001b[0m\u001b[0mnp\u001b[0m\u001b[1;33m.\u001b[0m\u001b[0masarray\u001b[0m\u001b[1;33m(\u001b[0m\u001b[0mX_train\u001b[0m\u001b[1;33m)\u001b[0m\u001b[1;33m,\u001b[0m \u001b[0mnp\u001b[0m\u001b[1;33m.\u001b[0m\u001b[0masarray\u001b[0m\u001b[1;33m(\u001b[0m\u001b[0mY_train\u001b[0m\u001b[1;33m)\u001b[0m\u001b[1;33m)\u001b[0m\u001b[1;33m\u001b[0m\u001b[0m\n\u001b[1;32m---> 21\u001b[1;33m         \u001b[0mpredicted\u001b[0m \u001b[1;33m=\u001b[0m \u001b[0mknn\u001b[0m\u001b[1;33m.\u001b[0m\u001b[0mpredict\u001b[0m\u001b[1;33m(\u001b[0m\u001b[0mnp\u001b[0m\u001b[1;33m.\u001b[0m\u001b[0masarray\u001b[0m\u001b[1;33m(\u001b[0m\u001b[0mparts_x\u001b[0m\u001b[1;33m[\u001b[0m\u001b[0mtest_part\u001b[0m\u001b[1;33m]\u001b[0m\u001b[1;33m)\u001b[0m\u001b[1;33m,\u001b[0m \u001b[0mk\u001b[0m\u001b[1;33m)\u001b[0m\u001b[1;33m\u001b[0m\u001b[0m\n\u001b[0m\u001b[0;32m     22\u001b[0m         \u001b[1;31m#assert len(predicted) == len(parts_x[test_part]), str(len(predicted)) + \"!= \" + str(len(parts_x[test_part]))\u001b[0m\u001b[1;33m\u001b[0m\u001b[1;33m\u001b[0m\u001b[0m\n\u001b[0;32m     23\u001b[0m         \u001b[1;31m#print(\"test x len = \" + str(len(parts_x[test_part])))\u001b[0m\u001b[1;33m\u001b[0m\u001b[1;33m\u001b[0m\u001b[0m\n",
      "\u001b[1;32m<ipython-input-271-cbed14883fc6>\u001b[0m in \u001b[0;36mpredict\u001b[1;34m(self, X_test, k)\u001b[0m\n\u001b[0;32m     16\u001b[0m                 \u001b[0md\u001b[0m \u001b[1;33m=\u001b[0m \u001b[1;36m0\u001b[0m\u001b[1;33m\u001b[0m\u001b[0m\n\u001b[0;32m     17\u001b[0m                 \u001b[1;32mfor\u001b[0m \u001b[0mj\u001b[0m \u001b[1;32min\u001b[0m \u001b[0mrange\u001b[0m\u001b[1;33m(\u001b[0m\u001b[0mlen\u001b[0m\u001b[1;33m(\u001b[0m\u001b[0mself\u001b[0m\u001b[1;33m.\u001b[0m\u001b[0mX_train\u001b[0m\u001b[1;33m[\u001b[0m\u001b[0mtrain_elem\u001b[0m\u001b[1;33m]\u001b[0m\u001b[1;33m)\u001b[0m\u001b[1;33m)\u001b[0m\u001b[1;33m:\u001b[0m\u001b[1;33m\u001b[0m\u001b[0m\n\u001b[1;32m---> 18\u001b[1;33m                     \u001b[1;32mif\u001b[0m \u001b[0mself\u001b[0m\u001b[1;33m.\u001b[0m\u001b[0mX_train\u001b[0m\u001b[1;33m[\u001b[0m\u001b[0mtrain_elem\u001b[0m\u001b[1;33m]\u001b[0m\u001b[1;33m[\u001b[0m\u001b[0mj\u001b[0m\u001b[1;33m]\u001b[0m \u001b[1;33m!=\u001b[0m \u001b[0mX_test\u001b[0m\u001b[1;33m[\u001b[0m\u001b[0mi\u001b[0m\u001b[1;33m]\u001b[0m\u001b[1;33m[\u001b[0m\u001b[0mj\u001b[0m\u001b[1;33m]\u001b[0m\u001b[1;33m:\u001b[0m\u001b[1;33m\u001b[0m\u001b[0m\n\u001b[0m\u001b[0;32m     19\u001b[0m                         \u001b[0md\u001b[0m \u001b[1;33m+=\u001b[0m \u001b[1;36m1\u001b[0m\u001b[1;33m\u001b[0m\u001b[0m\n\u001b[0;32m     20\u001b[0m                 \u001b[0mdist\u001b[0m\u001b[1;33m.\u001b[0m\u001b[0mappend\u001b[0m\u001b[1;33m(\u001b[0m\u001b[0md\u001b[0m\u001b[1;33m)\u001b[0m\u001b[1;33m\u001b[0m\u001b[0m\n",
      "\u001b[1;31mKeyboardInterrupt\u001b[0m: "
     ]
    }
   ],
   "source": [
    "import matplotlib.pyplot as plt\n",
    "%matplotlib inline\n",
    "all_res = {}\n",
    "for k in range(1, 20):\n",
    "    cv_res = cross_validation(X_train, Y_train, k)\n",
    "    print(\"k = \" + str(k) + \" cv_res = \" + str(cv_res))\n",
    "    all_res[k] = cv_res\n",
    "plt.scatter(all_res.keys(), all_res.values())    \n",
    "#150 previous    \n",
    "    "
   ]
  },
  {
   "cell_type": "markdown",
   "metadata": {},
   "source": [
    "Система сказала, что шансы почти равные. Теперь полученную оценку можно загрузить на сайт в качетве прогноза. \n",
    "Как это сделать расказанно [тут](https://github.com/romovpa/dotascience-hackathon/blob/master/README.md)."
   ]
  }
 ],
 "metadata": {
  "kernelspec": {
   "display_name": "Python 2",
   "language": "python",
   "name": "python2"
  },
  "language_info": {
   "codemirror_mode": {
    "name": "ipython",
    "version": 2
   },
   "file_extension": ".py",
   "mimetype": "text/x-python",
   "name": "python",
   "nbconvert_exporter": "python",
   "pygments_lexer": "ipython2",
   "version": "2.7.10"
  }
 },
 "nbformat": 4,
 "nbformat_minor": 0
}
