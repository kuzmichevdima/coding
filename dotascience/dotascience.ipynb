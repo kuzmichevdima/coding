{
 "cells": [
  {
   "cell_type": "code",
   "execution_count": 125,
   "metadata": {
    "collapsed": false
   },
   "outputs": [],
   "source": [
    "# Прогноз результатов матчей на основе TrueSkill\n",
    "\n",
    "from __future__ import print_function\n",
    "\n"
   ]
  },
  {
   "cell_type": "code",
   "execution_count": null,
   "metadata": {
    "collapsed": false
   },
   "outputs": [],
   "source": [
    "import pandas as pd\n",
    "import trueskill\n",
    "\n",
    "from math import sqrt, log\n",
    "from trueskill import BETA\n",
    "from trueskill.backends import cdf"
   ]
  },
  {
   "cell_type": "markdown",
   "metadata": {},
   "source": [
    "Загружаем информацию про результаты игр, скачанную с http://dotascience.com/ и сразу сортируем по Match_ID."
   ]
  },
  {
   "cell_type": "code",
   "execution_count": 44,
   "metadata": {
    "collapsed": false
   },
   "outputs": [],
   "source": [
    "matches_info = pd.read_csv('selected_team_matches.csv').sort(['match_id'])"
   ]
  },
  {
   "cell_type": "code",
   "execution_count": 45,
   "metadata": {
    "collapsed": false
   },
   "outputs": [
    {
     "data": {
      "text/html": [
       "<div>\n",
       "<table border=\"1\" class=\"dataframe\">\n",
       "  <thead>\n",
       "    <tr style=\"text-align: right;\">\n",
       "      <th></th>\n",
       "      <th>date</th>\n",
       "      <th>tournament</th>\n",
       "      <th>radiant</th>\n",
       "      <th>dire</th>\n",
       "      <th>winner</th>\n",
       "      <th>match_id</th>\n",
       "    </tr>\n",
       "  </thead>\n",
       "  <tbody>\n",
       "    <tr>\n",
       "      <th>0</th>\n",
       "      <td>2012-06-24</td>\n",
       "      <td>The Defense 2</td>\n",
       "      <td>WhA</td>\n",
       "      <td>EG</td>\n",
       "      <td>DIRE</td>\n",
       "      <td>22270148</td>\n",
       "    </tr>\n",
       "    <tr>\n",
       "      <th>1</th>\n",
       "      <td>2012-06-28</td>\n",
       "      <td>The Defense 2</td>\n",
       "      <td>Unknown</td>\n",
       "      <td>EG</td>\n",
       "      <td>DIRE</td>\n",
       "      <td>22959375</td>\n",
       "    </tr>\n",
       "    <tr>\n",
       "      <th>2</th>\n",
       "      <td>2012-06-29</td>\n",
       "      <td>StarSeries II Finals</td>\n",
       "      <td>EG</td>\n",
       "      <td>Empire</td>\n",
       "      <td>DIRE</td>\n",
       "      <td>23152391</td>\n",
       "    </tr>\n",
       "    <tr>\n",
       "      <th>3</th>\n",
       "      <td>2012-06-29</td>\n",
       "      <td>StarSeries II Finals</td>\n",
       "      <td>EG</td>\n",
       "      <td>NEXT.kz</td>\n",
       "      <td>RADIANT</td>\n",
       "      <td>23160256</td>\n",
       "    </tr>\n",
       "    <tr>\n",
       "      <th>4</th>\n",
       "      <td>2012-07-11</td>\n",
       "      <td>The Defense 2</td>\n",
       "      <td>EG</td>\n",
       "      <td>Unknown</td>\n",
       "      <td>DIRE</td>\n",
       "      <td>25449321</td>\n",
       "    </tr>\n",
       "    <tr>\n",
       "      <th>6</th>\n",
       "      <td>2012-07-17</td>\n",
       "      <td>BTS World Tour</td>\n",
       "      <td>Unknown</td>\n",
       "      <td>EG</td>\n",
       "      <td>DIRE</td>\n",
       "      <td>26649858</td>\n",
       "    </tr>\n",
       "    <tr>\n",
       "      <th>5</th>\n",
       "      <td>2012-07-17</td>\n",
       "      <td>BTS World Tour</td>\n",
       "      <td>EG</td>\n",
       "      <td>Unknown</td>\n",
       "      <td>RADIANT</td>\n",
       "      <td>26658780</td>\n",
       "    </tr>\n",
       "    <tr>\n",
       "      <th>7</th>\n",
       "      <td>2012-07-19</td>\n",
       "      <td>The Defense 2</td>\n",
       "      <td>EG</td>\n",
       "      <td>Unknown</td>\n",
       "      <td>RADIANT</td>\n",
       "      <td>27042254</td>\n",
       "    </tr>\n",
       "    <tr>\n",
       "      <th>8</th>\n",
       "      <td>2012-07-19</td>\n",
       "      <td>The Defense 2</td>\n",
       "      <td>Unknown</td>\n",
       "      <td>EG</td>\n",
       "      <td>DIRE</td>\n",
       "      <td>27051421</td>\n",
       "    </tr>\n",
       "    <tr>\n",
       "      <th>9</th>\n",
       "      <td>2012-07-27</td>\n",
       "      <td>The Defense 2</td>\n",
       "      <td>EG</td>\n",
       "      <td>Unknown</td>\n",
       "      <td>RADIANT</td>\n",
       "      <td>28705062</td>\n",
       "    </tr>\n",
       "    <tr>\n",
       "      <th>10</th>\n",
       "      <td>2012-07-27</td>\n",
       "      <td>The Defense 2</td>\n",
       "      <td>Unknown</td>\n",
       "      <td>EG</td>\n",
       "      <td>DIRE</td>\n",
       "      <td>28718127</td>\n",
       "    </tr>\n",
       "    <tr>\n",
       "      <th>11</th>\n",
       "      <td>2012-07-30</td>\n",
       "      <td>BTS World Tour</td>\n",
       "      <td>EG</td>\n",
       "      <td>TongFu</td>\n",
       "      <td>RADIANT</td>\n",
       "      <td>29364063</td>\n",
       "    </tr>\n",
       "    <tr>\n",
       "      <th>12</th>\n",
       "      <td>2012-07-30</td>\n",
       "      <td>BTS World Tour</td>\n",
       "      <td>TongFu</td>\n",
       "      <td>EG</td>\n",
       "      <td>DIRE</td>\n",
       "      <td>29375839</td>\n",
       "    </tr>\n",
       "    <tr>\n",
       "      <th>13</th>\n",
       "      <td>2012-07-30</td>\n",
       "      <td>BTS World Tour</td>\n",
       "      <td>EG</td>\n",
       "      <td>LGD.cn</td>\n",
       "      <td>RADIANT</td>\n",
       "      <td>29393541</td>\n",
       "    </tr>\n",
       "    <tr>\n",
       "      <th>15</th>\n",
       "      <td>2012-07-30</td>\n",
       "      <td>BTS World Tour</td>\n",
       "      <td>LGD.cn</td>\n",
       "      <td>EG</td>\n",
       "      <td>DIRE</td>\n",
       "      <td>29405010</td>\n",
       "    </tr>\n",
       "    <tr>\n",
       "      <th>14</th>\n",
       "      <td>2012-07-30</td>\n",
       "      <td>BTS World Tour</td>\n",
       "      <td>LGD.cn</td>\n",
       "      <td>EG</td>\n",
       "      <td>DIRE</td>\n",
       "      <td>29413678</td>\n",
       "    </tr>\n",
       "    <tr>\n",
       "      <th>16</th>\n",
       "      <td>2012-08-01</td>\n",
       "      <td>The Defense 2</td>\n",
       "      <td>EG</td>\n",
       "      <td>SGC</td>\n",
       "      <td>RADIANT</td>\n",
       "      <td>29834159</td>\n",
       "    </tr>\n",
       "    <tr>\n",
       "      <th>17</th>\n",
       "      <td>2012-08-01</td>\n",
       "      <td>The Defense 2</td>\n",
       "      <td>SGC</td>\n",
       "      <td>EG</td>\n",
       "      <td>DIRE</td>\n",
       "      <td>29845352</td>\n",
       "    </tr>\n",
       "    <tr>\n",
       "      <th>18</th>\n",
       "      <td>2012-08-04</td>\n",
       "      <td>ECAL Americas</td>\n",
       "      <td>Unknown</td>\n",
       "      <td>EG</td>\n",
       "      <td>DIRE</td>\n",
       "      <td>30535565</td>\n",
       "    </tr>\n",
       "    <tr>\n",
       "      <th>19</th>\n",
       "      <td>2012-08-04</td>\n",
       "      <td>ECAL Americas</td>\n",
       "      <td>EG</td>\n",
       "      <td>Unknown</td>\n",
       "      <td>RADIANT</td>\n",
       "      <td>30541978</td>\n",
       "    </tr>\n",
       "    <tr>\n",
       "      <th>23</th>\n",
       "      <td>2012-08-07</td>\n",
       "      <td>The Defense 2</td>\n",
       "      <td>Quantic</td>\n",
       "      <td>EG</td>\n",
       "      <td>DIRE</td>\n",
       "      <td>31231127</td>\n",
       "    </tr>\n",
       "    <tr>\n",
       "      <th>25</th>\n",
       "      <td>2012-08-07</td>\n",
       "      <td>The Defense 2</td>\n",
       "      <td>EG</td>\n",
       "      <td>Quantic</td>\n",
       "      <td>DIRE</td>\n",
       "      <td>31243425</td>\n",
       "    </tr>\n",
       "    <tr>\n",
       "      <th>24</th>\n",
       "      <td>2012-08-07</td>\n",
       "      <td>The Defense 2</td>\n",
       "      <td>Quantic</td>\n",
       "      <td>EG</td>\n",
       "      <td>DIRE</td>\n",
       "      <td>31255675</td>\n",
       "    </tr>\n",
       "    <tr>\n",
       "      <th>22</th>\n",
       "      <td>2012-08-07</td>\n",
       "      <td>ECAL Americas</td>\n",
       "      <td>EG</td>\n",
       "      <td>aL</td>\n",
       "      <td>DIRE</td>\n",
       "      <td>31285551</td>\n",
       "    </tr>\n",
       "    <tr>\n",
       "      <th>20</th>\n",
       "      <td>2012-08-07</td>\n",
       "      <td>ECAL Americas</td>\n",
       "      <td>aL</td>\n",
       "      <td>EG</td>\n",
       "      <td>DIRE</td>\n",
       "      <td>31292512</td>\n",
       "    </tr>\n",
       "    <tr>\n",
       "      <th>21</th>\n",
       "      <td>2012-08-07</td>\n",
       "      <td>ECAL Americas</td>\n",
       "      <td>EG</td>\n",
       "      <td>aL</td>\n",
       "      <td>RADIANT</td>\n",
       "      <td>31296544</td>\n",
       "    </tr>\n",
       "    <tr>\n",
       "      <th>26</th>\n",
       "      <td>2012-08-08</td>\n",
       "      <td>BTS World Tour</td>\n",
       "      <td>DK</td>\n",
       "      <td>EG</td>\n",
       "      <td>DIRE</td>\n",
       "      <td>31425048</td>\n",
       "    </tr>\n",
       "    <tr>\n",
       "      <th>27</th>\n",
       "      <td>2012-08-08</td>\n",
       "      <td>BTS World Tour</td>\n",
       "      <td>EG</td>\n",
       "      <td>DK</td>\n",
       "      <td>RADIANT</td>\n",
       "      <td>31439307</td>\n",
       "    </tr>\n",
       "    <tr>\n",
       "      <th>28</th>\n",
       "      <td>2012-08-10</td>\n",
       "      <td>The Defense 2</td>\n",
       "      <td>EG</td>\n",
       "      <td>mouz</td>\n",
       "      <td>RADIANT</td>\n",
       "      <td>31885518</td>\n",
       "    </tr>\n",
       "    <tr>\n",
       "      <th>29</th>\n",
       "      <td>2012-08-10</td>\n",
       "      <td>The Defense 2</td>\n",
       "      <td>mouz</td>\n",
       "      <td>EG</td>\n",
       "      <td>RADIANT</td>\n",
       "      <td>31895228</td>\n",
       "    </tr>\n",
       "    <tr>\n",
       "      <th>...</th>\n",
       "      <td>...</td>\n",
       "      <td>...</td>\n",
       "      <td>...</td>\n",
       "      <td>...</td>\n",
       "      <td>...</td>\n",
       "      <td>...</td>\n",
       "    </tr>\n",
       "    <tr>\n",
       "      <th>3594</th>\n",
       "      <td>2016-02-08</td>\n",
       "      <td>Canada Cup 6</td>\n",
       "      <td>E.Wolves</td>\n",
       "      <td>coL 2</td>\n",
       "      <td>DIRE</td>\n",
       "      <td>2138497064</td>\n",
       "    </tr>\n",
       "    <tr>\n",
       "      <th>3596</th>\n",
       "      <td>2016-02-08</td>\n",
       "      <td>Canada Cup 6</td>\n",
       "      <td>E.Wolves</td>\n",
       "      <td>coL 2</td>\n",
       "      <td>DIRE</td>\n",
       "      <td>2138574904</td>\n",
       "    </tr>\n",
       "    <tr>\n",
       "      <th>3597</th>\n",
       "      <td>2016-02-08</td>\n",
       "      <td>Canada Cup 6</td>\n",
       "      <td>coL 2</td>\n",
       "      <td>E.Wolves</td>\n",
       "      <td>RADIANT</td>\n",
       "      <td>2138638290</td>\n",
       "    </tr>\n",
       "    <tr>\n",
       "      <th>3600</th>\n",
       "      <td>2016-02-09</td>\n",
       "      <td>WePlay 3 EU Qualifiers</td>\n",
       "      <td>Liquid</td>\n",
       "      <td>WG 2</td>\n",
       "      <td>RADIANT</td>\n",
       "      <td>2140476449</td>\n",
       "    </tr>\n",
       "    <tr>\n",
       "      <th>3601</th>\n",
       "      <td>2016-02-09</td>\n",
       "      <td>Dota Pit League Season 4</td>\n",
       "      <td>TSpirit</td>\n",
       "      <td>99</td>\n",
       "      <td>RADIANT</td>\n",
       "      <td>2140559679</td>\n",
       "    </tr>\n",
       "    <tr>\n",
       "      <th>3599</th>\n",
       "      <td>2016-02-09</td>\n",
       "      <td>Dota Pit League Season 4</td>\n",
       "      <td>TSpirit</td>\n",
       "      <td>99</td>\n",
       "      <td>RADIANT</td>\n",
       "      <td>2140619101</td>\n",
       "    </tr>\n",
       "    <tr>\n",
       "      <th>3602</th>\n",
       "      <td>2016-02-10</td>\n",
       "      <td>Dota Pit League Season 4</td>\n",
       "      <td>FF</td>\n",
       "      <td>Liquid</td>\n",
       "      <td>DIRE</td>\n",
       "      <td>2142507011</td>\n",
       "    </tr>\n",
       "    <tr>\n",
       "      <th>3604</th>\n",
       "      <td>2016-02-10</td>\n",
       "      <td>WePlay 3 EU Qualifiers</td>\n",
       "      <td>HR</td>\n",
       "      <td>TSpirit</td>\n",
       "      <td>DIRE</td>\n",
       "      <td>2142527819</td>\n",
       "    </tr>\n",
       "    <tr>\n",
       "      <th>3603</th>\n",
       "      <td>2016-02-10</td>\n",
       "      <td>Dota Pit League Season 4</td>\n",
       "      <td>Liquid</td>\n",
       "      <td>FF</td>\n",
       "      <td>DIRE</td>\n",
       "      <td>2142612562</td>\n",
       "    </tr>\n",
       "    <tr>\n",
       "      <th>3606</th>\n",
       "      <td>2016-02-10</td>\n",
       "      <td>ESL One Americas Qualifiers</td>\n",
       "      <td>coL 2</td>\n",
       "      <td>Infamous 2</td>\n",
       "      <td>RADIANT</td>\n",
       "      <td>2142768039</td>\n",
       "    </tr>\n",
       "    <tr>\n",
       "      <th>3605</th>\n",
       "      <td>2016-02-10</td>\n",
       "      <td>ESL One Americas Qualifiers</td>\n",
       "      <td>Infamous 2</td>\n",
       "      <td>coL 2</td>\n",
       "      <td>DIRE</td>\n",
       "      <td>2142836969</td>\n",
       "    </tr>\n",
       "    <tr>\n",
       "      <th>3607</th>\n",
       "      <td>2016-02-11</td>\n",
       "      <td>WePlay 3 EU Qualifiers</td>\n",
       "      <td>LC</td>\n",
       "      <td>Liquid</td>\n",
       "      <td>RADIANT</td>\n",
       "      <td>2145002386</td>\n",
       "    </tr>\n",
       "    <tr>\n",
       "      <th>3610</th>\n",
       "      <td>2016-02-11</td>\n",
       "      <td>ESL One Americas Qualifiers</td>\n",
       "      <td>PoF 2</td>\n",
       "      <td>Archon</td>\n",
       "      <td>DIRE</td>\n",
       "      <td>2145169626</td>\n",
       "    </tr>\n",
       "    <tr>\n",
       "      <th>3609</th>\n",
       "      <td>2016-02-11</td>\n",
       "      <td>ESL One Americas Qualifiers</td>\n",
       "      <td>Archon</td>\n",
       "      <td>PoF 2</td>\n",
       "      <td>DIRE</td>\n",
       "      <td>2145235732</td>\n",
       "    </tr>\n",
       "    <tr>\n",
       "      <th>3608</th>\n",
       "      <td>2016-02-11</td>\n",
       "      <td>ESL One Americas Qualifiers</td>\n",
       "      <td>Archon</td>\n",
       "      <td>PoF 2</td>\n",
       "      <td>RADIANT</td>\n",
       "      <td>2145285558</td>\n",
       "    </tr>\n",
       "    <tr>\n",
       "      <th>3611</th>\n",
       "      <td>2016-02-12</td>\n",
       "      <td>WePlay 3 SEA Qualifiers</td>\n",
       "      <td>MVP Phoenix</td>\n",
       "      <td>Mineski</td>\n",
       "      <td>RADIANT</td>\n",
       "      <td>2146691699</td>\n",
       "    </tr>\n",
       "    <tr>\n",
       "      <th>3612</th>\n",
       "      <td>2016-02-12</td>\n",
       "      <td>ESL One EU Qualifiers</td>\n",
       "      <td>TSpirit</td>\n",
       "      <td>LC</td>\n",
       "      <td>DIRE</td>\n",
       "      <td>2147422945</td>\n",
       "    </tr>\n",
       "    <tr>\n",
       "      <th>3617</th>\n",
       "      <td>2016-02-15</td>\n",
       "      <td>ESL One Americas Qualifiers</td>\n",
       "      <td>Archon</td>\n",
       "      <td>E.Wolves</td>\n",
       "      <td>DIRE</td>\n",
       "      <td>2154827205</td>\n",
       "    </tr>\n",
       "    <tr>\n",
       "      <th>3616</th>\n",
       "      <td>2016-02-15</td>\n",
       "      <td>ESL One Americas Qualifiers</td>\n",
       "      <td>E.Wolves</td>\n",
       "      <td>Archon</td>\n",
       "      <td>RADIANT</td>\n",
       "      <td>2154918475</td>\n",
       "    </tr>\n",
       "    <tr>\n",
       "      <th>3613</th>\n",
       "      <td>2016-02-15</td>\n",
       "      <td>ESL One Americas Qualifiers</td>\n",
       "      <td>coL 2</td>\n",
       "      <td>DC</td>\n",
       "      <td>RADIANT</td>\n",
       "      <td>2155027337</td>\n",
       "    </tr>\n",
       "    <tr>\n",
       "      <th>3614</th>\n",
       "      <td>2016-02-15</td>\n",
       "      <td>ESL One Americas Qualifiers</td>\n",
       "      <td>DC</td>\n",
       "      <td>coL 2</td>\n",
       "      <td>RADIANT</td>\n",
       "      <td>2155057012</td>\n",
       "    </tr>\n",
       "    <tr>\n",
       "      <th>3615</th>\n",
       "      <td>2016-02-15</td>\n",
       "      <td>ESL One Americas Qualifiers</td>\n",
       "      <td>DC</td>\n",
       "      <td>coL 2</td>\n",
       "      <td>DIRE</td>\n",
       "      <td>2155091523</td>\n",
       "    </tr>\n",
       "    <tr>\n",
       "      <th>3620</th>\n",
       "      <td>2016-02-16</td>\n",
       "      <td>WePlay 3 EU Qualifiers</td>\n",
       "      <td>Empire</td>\n",
       "      <td>TSpirit</td>\n",
       "      <td>RADIANT</td>\n",
       "      <td>2156516128</td>\n",
       "    </tr>\n",
       "    <tr>\n",
       "      <th>3621</th>\n",
       "      <td>2016-02-16</td>\n",
       "      <td>WePlay 3 EU Qualifiers</td>\n",
       "      <td>NaVi</td>\n",
       "      <td>TSpirit</td>\n",
       "      <td>DIRE</td>\n",
       "      <td>2156677318</td>\n",
       "    </tr>\n",
       "    <tr>\n",
       "      <th>3618</th>\n",
       "      <td>2016-02-16</td>\n",
       "      <td>ESL One Americas Qualifiers</td>\n",
       "      <td>coL 2</td>\n",
       "      <td>E.Wolves</td>\n",
       "      <td>RADIANT</td>\n",
       "      <td>2157002584</td>\n",
       "    </tr>\n",
       "    <tr>\n",
       "      <th>3619</th>\n",
       "      <td>2016-02-16</td>\n",
       "      <td>ESL One Americas Qualifiers</td>\n",
       "      <td>coL 2</td>\n",
       "      <td>E.Wolves</td>\n",
       "      <td>RADIANT</td>\n",
       "      <td>2157050994</td>\n",
       "    </tr>\n",
       "    <tr>\n",
       "      <th>3622</th>\n",
       "      <td>2016-02-16</td>\n",
       "      <td>WePlay 3 EU Qualifiers</td>\n",
       "      <td>TSpirit</td>\n",
       "      <td>Empire</td>\n",
       "      <td>RADIANT</td>\n",
       "      <td>2157061866</td>\n",
       "    </tr>\n",
       "    <tr>\n",
       "      <th>3623</th>\n",
       "      <td>2016-02-17</td>\n",
       "      <td>WePlay 3 EU Qualifiers</td>\n",
       "      <td>PD 2</td>\n",
       "      <td>TSpirit</td>\n",
       "      <td>DIRE</td>\n",
       "      <td>2158700627</td>\n",
       "    </tr>\n",
       "    <tr>\n",
       "      <th>3625</th>\n",
       "      <td>2016-02-17</td>\n",
       "      <td>WePlay 3 EU Qualifiers</td>\n",
       "      <td>TSpirit</td>\n",
       "      <td>FF</td>\n",
       "      <td>DIRE</td>\n",
       "      <td>2158987415</td>\n",
       "    </tr>\n",
       "    <tr>\n",
       "      <th>3624</th>\n",
       "      <td>2016-02-17</td>\n",
       "      <td>WePlay 3 EU Qualifiers</td>\n",
       "      <td>HR</td>\n",
       "      <td>TSpirit</td>\n",
       "      <td>DIRE</td>\n",
       "      <td>2159126237</td>\n",
       "    </tr>\n",
       "  </tbody>\n",
       "</table>\n",
       "<p>3626 rows × 6 columns</p>\n",
       "</div>"
      ],
      "text/plain": [
       "            date                   tournament      radiant        dire  \\\n",
       "0     2012-06-24                The Defense 2          WhA          EG   \n",
       "1     2012-06-28                The Defense 2      Unknown          EG   \n",
       "2     2012-06-29         StarSeries II Finals           EG      Empire   \n",
       "3     2012-06-29         StarSeries II Finals           EG     NEXT.kz   \n",
       "4     2012-07-11                The Defense 2           EG     Unknown   \n",
       "6     2012-07-17               BTS World Tour      Unknown          EG   \n",
       "5     2012-07-17               BTS World Tour           EG     Unknown   \n",
       "7     2012-07-19                The Defense 2           EG     Unknown   \n",
       "8     2012-07-19                The Defense 2      Unknown          EG   \n",
       "9     2012-07-27                The Defense 2           EG     Unknown   \n",
       "10    2012-07-27                The Defense 2      Unknown          EG   \n",
       "11    2012-07-30               BTS World Tour           EG      TongFu   \n",
       "12    2012-07-30               BTS World Tour       TongFu          EG   \n",
       "13    2012-07-30               BTS World Tour           EG      LGD.cn   \n",
       "15    2012-07-30               BTS World Tour       LGD.cn          EG   \n",
       "14    2012-07-30               BTS World Tour       LGD.cn          EG   \n",
       "16    2012-08-01                The Defense 2           EG         SGC   \n",
       "17    2012-08-01                The Defense 2          SGC          EG   \n",
       "18    2012-08-04                ECAL Americas      Unknown          EG   \n",
       "19    2012-08-04                ECAL Americas           EG     Unknown   \n",
       "23    2012-08-07                The Defense 2      Quantic          EG   \n",
       "25    2012-08-07                The Defense 2           EG     Quantic   \n",
       "24    2012-08-07                The Defense 2      Quantic          EG   \n",
       "22    2012-08-07                ECAL Americas           EG          aL   \n",
       "20    2012-08-07                ECAL Americas           aL          EG   \n",
       "21    2012-08-07                ECAL Americas           EG          aL   \n",
       "26    2012-08-08               BTS World Tour           DK          EG   \n",
       "27    2012-08-08               BTS World Tour           EG          DK   \n",
       "28    2012-08-10                The Defense 2           EG        mouz   \n",
       "29    2012-08-10                The Defense 2         mouz          EG   \n",
       "...          ...                          ...          ...         ...   \n",
       "3594  2016-02-08                 Canada Cup 6     E.Wolves       coL 2   \n",
       "3596  2016-02-08                 Canada Cup 6     E.Wolves       coL 2   \n",
       "3597  2016-02-08                 Canada Cup 6        coL 2    E.Wolves   \n",
       "3600  2016-02-09       WePlay 3 EU Qualifiers       Liquid        WG 2   \n",
       "3601  2016-02-09     Dota Pit League Season 4      TSpirit          99   \n",
       "3599  2016-02-09     Dota Pit League Season 4      TSpirit          99   \n",
       "3602  2016-02-10     Dota Pit League Season 4           FF      Liquid   \n",
       "3604  2016-02-10       WePlay 3 EU Qualifiers           HR     TSpirit   \n",
       "3603  2016-02-10     Dota Pit League Season 4       Liquid          FF   \n",
       "3606  2016-02-10  ESL One Americas Qualifiers        coL 2  Infamous 2   \n",
       "3605  2016-02-10  ESL One Americas Qualifiers   Infamous 2       coL 2   \n",
       "3607  2016-02-11       WePlay 3 EU Qualifiers           LC      Liquid   \n",
       "3610  2016-02-11  ESL One Americas Qualifiers        PoF 2      Archon   \n",
       "3609  2016-02-11  ESL One Americas Qualifiers       Archon       PoF 2   \n",
       "3608  2016-02-11  ESL One Americas Qualifiers       Archon       PoF 2   \n",
       "3611  2016-02-12      WePlay 3 SEA Qualifiers  MVP Phoenix     Mineski   \n",
       "3612  2016-02-12        ESL One EU Qualifiers      TSpirit          LC   \n",
       "3617  2016-02-15  ESL One Americas Qualifiers       Archon    E.Wolves   \n",
       "3616  2016-02-15  ESL One Americas Qualifiers     E.Wolves      Archon   \n",
       "3613  2016-02-15  ESL One Americas Qualifiers        coL 2          DC   \n",
       "3614  2016-02-15  ESL One Americas Qualifiers           DC       coL 2   \n",
       "3615  2016-02-15  ESL One Americas Qualifiers           DC       coL 2   \n",
       "3620  2016-02-16       WePlay 3 EU Qualifiers       Empire     TSpirit   \n",
       "3621  2016-02-16       WePlay 3 EU Qualifiers         NaVi     TSpirit   \n",
       "3618  2016-02-16  ESL One Americas Qualifiers        coL 2    E.Wolves   \n",
       "3619  2016-02-16  ESL One Americas Qualifiers        coL 2    E.Wolves   \n",
       "3622  2016-02-16       WePlay 3 EU Qualifiers      TSpirit      Empire   \n",
       "3623  2016-02-17       WePlay 3 EU Qualifiers         PD 2     TSpirit   \n",
       "3625  2016-02-17       WePlay 3 EU Qualifiers      TSpirit          FF   \n",
       "3624  2016-02-17       WePlay 3 EU Qualifiers           HR     TSpirit   \n",
       "\n",
       "       winner    match_id  \n",
       "0        DIRE    22270148  \n",
       "1        DIRE    22959375  \n",
       "2        DIRE    23152391  \n",
       "3     RADIANT    23160256  \n",
       "4        DIRE    25449321  \n",
       "6        DIRE    26649858  \n",
       "5     RADIANT    26658780  \n",
       "7     RADIANT    27042254  \n",
       "8        DIRE    27051421  \n",
       "9     RADIANT    28705062  \n",
       "10       DIRE    28718127  \n",
       "11    RADIANT    29364063  \n",
       "12       DIRE    29375839  \n",
       "13    RADIANT    29393541  \n",
       "15       DIRE    29405010  \n",
       "14       DIRE    29413678  \n",
       "16    RADIANT    29834159  \n",
       "17       DIRE    29845352  \n",
       "18       DIRE    30535565  \n",
       "19    RADIANT    30541978  \n",
       "23       DIRE    31231127  \n",
       "25       DIRE    31243425  \n",
       "24       DIRE    31255675  \n",
       "22       DIRE    31285551  \n",
       "20       DIRE    31292512  \n",
       "21    RADIANT    31296544  \n",
       "26       DIRE    31425048  \n",
       "27    RADIANT    31439307  \n",
       "28    RADIANT    31885518  \n",
       "29    RADIANT    31895228  \n",
       "...       ...         ...  \n",
       "3594     DIRE  2138497064  \n",
       "3596     DIRE  2138574904  \n",
       "3597  RADIANT  2138638290  \n",
       "3600  RADIANT  2140476449  \n",
       "3601  RADIANT  2140559679  \n",
       "3599  RADIANT  2140619101  \n",
       "3602     DIRE  2142507011  \n",
       "3604     DIRE  2142527819  \n",
       "3603     DIRE  2142612562  \n",
       "3606  RADIANT  2142768039  \n",
       "3605     DIRE  2142836969  \n",
       "3607  RADIANT  2145002386  \n",
       "3610     DIRE  2145169626  \n",
       "3609     DIRE  2145235732  \n",
       "3608  RADIANT  2145285558  \n",
       "3611  RADIANT  2146691699  \n",
       "3612     DIRE  2147422945  \n",
       "3617     DIRE  2154827205  \n",
       "3616  RADIANT  2154918475  \n",
       "3613  RADIANT  2155027337  \n",
       "3614  RADIANT  2155057012  \n",
       "3615     DIRE  2155091523  \n",
       "3620  RADIANT  2156516128  \n",
       "3621     DIRE  2156677318  \n",
       "3618  RADIANT  2157002584  \n",
       "3619  RADIANT  2157050994  \n",
       "3622  RADIANT  2157061866  \n",
       "3623     DIRE  2158700627  \n",
       "3625     DIRE  2158987415  \n",
       "3624     DIRE  2159126237  \n",
       "\n",
       "[3626 rows x 6 columns]"
      ]
     },
     "execution_count": 45,
     "metadata": {},
     "output_type": "execute_result"
    }
   ],
   "source": [
    "matches_info"
   ]
  },
  {
   "cell_type": "markdown",
   "metadata": {},
   "source": [
    "Инициализируем параметры Trueskill используя параметры по умолчанию, кроме вероятность ничейного результата, у нас не бывает ничьих."
   ]
  },
  {
   "cell_type": "code",
   "execution_count": null,
   "metadata": {
    "collapsed": false
   },
   "outputs": [],
   "source": [
    "trueskill.setup(draw_probability=0)"
   ]
  },
  {
   "cell_type": "markdown",
   "metadata": {},
   "source": [
    "Создадим словарик, где будем хранить рейтинги. И обучим нашу систему. Для каждого матча мы определим победителя и пересчитаем рейтинги комманд. Если команда раньше не встречалась задаем ей рейтинг по умочанию. В нашей простейшей модели мы считаем, что каждая команда это один виртуальный игрок."
   ]
  },
  {
   "cell_type": "code",
   "execution_count": null,
   "metadata": {
    "collapsed": false
   },
   "outputs": [],
   "source": [
    "Rates = {}\n",
    "for index, row in matches_info.iterrows():\n",
    "    team1 = row['radiant']\n",
    "    team2 = row['dire']\n",
    "    if team1 not in Rates:\n",
    "        Rates[team1] = trueskill.Rating()\n",
    "    if team2 not in Rates:\n",
    "        Rates[team2] = trueskill.Rating()\n",
    "    if row['winner'] == 'RADIANT':\n",
    "        Rates[team1], Rates[team2] = trueskill.rate_1vs1(Rates[team1], Rates[team2])\n",
    "    else:\n",
    "        Rates[team2], Rates[team1] = trueskill.rate_1vs1(Rates[team2], Rates[team1])\n",
    "        "
   ]
  },
  {
   "cell_type": "markdown",
   "metadata": {},
   "source": [
    "Теперь мы можем, например, насладится рейтингом команты Virtus.pro, которая скрывается под тагом 'VP 2' "
   ]
  },
  {
   "cell_type": "code",
   "execution_count": null,
   "metadata": {
    "collapsed": false
   },
   "outputs": [],
   "source": [
    "Rates['VP 2']"
   ]
  },
  {
   "cell_type": "markdown",
   "metadata": {},
   "source": [
    "Попробуем оценить вероятность победы Virtus.pro, например, в матче с Evil Genius.\n",
    "К сожалению в библиотеке trueskill, нет возможности оценить вероятность, но мы же знаем из описания,\n",
    "что рейтинги тут нормально распределенные. Так что сделаем функцию, которая оценит вероятность, \n",
    "что сила игры первой команды, будет больше чем у второй."
   ]
  },
  {
   "cell_type": "code",
   "execution_count": null,
   "metadata": {
    "collapsed": true
   },
   "outputs": [],
   "source": [
    "def win_probability(player_rating, opponent_rating):\n",
    "    delta_mu = player_rating.mu - opponent_rating.mu\n",
    "    denom = sqrt(2 * (BETA * BETA) + pow(player_rating.sigma, 2) + pow(opponent_rating.sigma, 2))\n",
    "    return cdf(delta_mu / denom)"
   ]
  },
  {
   "cell_type": "markdown",
   "metadata": {},
   "source": [
    "Ура, теперь мы можем оценить шансы."
   ]
  },
  {
   "cell_type": "code",
   "execution_count": null,
   "metadata": {
    "collapsed": false
   },
   "outputs": [],
   "source": [
    "win_probability(Rates['VP 2'], Rates['EG'])"
   ]
  },
  {
   "cell_type": "code",
   "execution_count": null,
   "metadata": {
    "collapsed": false
   },
   "outputs": [],
   "source": [
    "heroes_csv = pd.read_csv('heroes.csv')\n",
    "print(heroes_csv)\n"
   ]
  },
  {
   "cell_type": "code",
   "execution_count": null,
   "metadata": {
    "collapsed": false
   },
   "outputs": [],
   "source": [
    "import requests\n",
    "api_key = 'E80C0BAEE50452950C911FA18788536F'"
   ]
  },
  {
   "cell_type": "code",
   "execution_count": 684,
   "metadata": {
    "collapsed": false,
    "scrolled": true
   },
   "outputs": [
    {
     "data": {
      "text/plain": [
       "{'ok': True, 'time': 1457003701.0}"
      ]
     },
     "execution_count": 684,
     "metadata": {},
     "output_type": "execute_result"
    }
   ],
   "source": [
    "def send(coeff):\n",
    "    resp = requests.post('http://alchemist.dotascience.com/api/match/50/prediction', \n",
    "                         json={'team_id': 1838315, 'probability': coeff}, headers={'Key': api_key})\n",
    "    resp = requests.get('http://alchemist.dotascience.com/api/match/50/prediction', headers={'Key': api_key})\n",
    "    print(resp.json())\n",
    "    #resp.json()\n",
    "{'ok': True, 'time': 1457003701.0}"
   ]
  },
  {
   "cell_type": "code",
   "execution_count": 118,
   "metadata": {
    "collapsed": false
   },
   "outputs": [],
   "source": [
    "heroes_dict_name_by_id = {}\n",
    "heroes_dict_id_by_name = {}\n",
    "for l in heroes_csv.iterrows():\n",
    "    #print(l)\n",
    "    heroes_dict_name_by_id[l[1]['id']] = l[1]['localized_name']\n",
    "    heroes_dict_id_by_name[l[1]['localized_name']] = l[1]['id']\n",
    "    \n",
    "#heroes_dict"
   ]
  },
  {
   "cell_type": "code",
   "execution_count": 53,
   "metadata": {
    "collapsed": true
   },
   "outputs": [],
   "source": [
    "class MatchInfo:\n",
    "    def __init__(self, picks, radiant_name, dire_name, duration):\n",
    "        self.picks = picks\n",
    "        self.radiant_name = radiant_name\n",
    "        self.dire_name = dire_name\n",
    "        self.duration = duration\n",
    "    "
   ]
  },
  {
   "cell_type": "code",
   "execution_count": 563,
   "metadata": {
    "collapsed": false
   },
   "outputs": [],
   "source": [
    "import json\n",
    "X_train = []\n",
    "Y_train = []\n",
    "iter_num = 0\n",
    "bad_count = 0\n",
    "with open('selected_team_match_info.jsonlines', 'r') as matches_file:\n",
    "    for line in matches_file:\n",
    "        #print('iteration', iter_num)\n",
    "        #print(line)\n",
    "        match = json.loads(line)\n",
    "        #print(match['match_id'])\n",
    "        if (not 'picks_bans' in match) or (not 'radiant_win' in match):\n",
    "            bad_count += 1\n",
    "            continue\n",
    "        radiant_win = match['radiant_win']\n",
    "        \n",
    "        list_radiant = []\n",
    "        list_dire = []\n",
    "        \n",
    "        for pick_info in match['picks_bans']:\n",
    "            if pick_info['is_pick'] == False:\n",
    "                #print('BAN')\n",
    "                continue\n",
    "            #else:\n",
    "                #print('PICK')\n",
    "            side_radiant_flag = (pick_info['team'] == 0)\n",
    "            hero_id = pick_info['hero_id']\n",
    "            hero_name = heroes_dict_name_by_id[hero_id]\n",
    "            if side_radiant_flag:\n",
    "                list_radiant.append(hero_id)\n",
    "            else:\n",
    "                list_dire.append(hero_id)\n",
    "            #print(pick_info)\n",
    "        #print(match['picks_bans'])\n",
    "        list_radiant = sorted(list_radiant)\n",
    "        list_dire = sorted(list_dire)\n",
    "        \n",
    "        #print('Radiant', list_radiant)\n",
    "        #print('Dire', list_dire)\n",
    "        #print('flag', radiant_win)\n",
    "        #if not 'radiant_name' in match:\n",
    "        #    print(match)\n",
    "        radiant_team_name = \"\" if not 'radiant_name' in match else match['radiant_name']\n",
    "        dire_team_name = \"\" if not 'dire_name' in match else match['dire_name']\n",
    "        duration = match['duration']\n",
    "        #print(\"Radiant team: \" + str(radiant_team_name + \" Dire team: \" + str(dire_team_name)))\n",
    "        #print(\"Date: \" + str(date))\n",
    "        X_train.append(MatchInfo(list_radiant + list_dire, radiant_team_name, dire_team_name, duration))\n",
    "        Y_train.append(radiant_win)\n",
    "        iter_num += 1\n",
    "        # Обработка матча\n",
    "        #\n",
    "#print(len(X_train))\n"
   ]
  },
  {
   "cell_type": "code",
   "execution_count": 93,
   "metadata": {
    "collapsed": false
   },
   "outputs": [
    {
     "data": {
      "text/plain": [
       "[19, 39, 91, 100, 101, 7, 25, 28, 85, 99]"
      ]
     },
     "execution_count": 93,
     "metadata": {},
     "output_type": "execute_result"
    }
   ],
   "source": [
    "X_train[0].picks"
   ]
  },
  {
   "cell_type": "code",
   "execution_count": null,
   "metadata": {
    "collapsed": false
   },
   "outputs": [],
   "source": [
    "print(bad_count, len(X_train))"
   ]
  },
  {
   "cell_type": "code",
   "execution_count": null,
   "metadata": {
    "collapsed": true
   },
   "outputs": [],
   "source": [
    "from sklearn.neighbors import KDTree\n",
    "import numpy as np\n",
    "import warnings\n",
    "warnings.filterwarnings('ignore')"
   ]
  },
  {
   "cell_type": "code",
   "execution_count": 110,
   "metadata": {
    "collapsed": false
   },
   "outputs": [],
   "source": [
    "\n",
    "class KDNN():\n",
    "    def __init__(self):\n",
    "        pass\n",
    "    def fit(self, X_train, Y_train):\n",
    "        self.X_train = X_train\n",
    "        self.Y_train = Y_train\n",
    "        return self\n",
    "    def find_closest(self, X_test, k):\n",
    "        dist = []\n",
    "        for train_elem in range(len(self.X_train)):\n",
    "            #print(self.X_train[train_elem].picks)\n",
    "            assert len(self.X_train[train_elem].picks) == len(X_test)\n",
    "            d = 0\n",
    "            for j in range(len(self.X_train[train_elem].picks)):\n",
    "                if self.X_train[train_elem].picks[j] != X_test[j]:\n",
    "                    d += 1\n",
    "            dist.append(d)\n",
    "            #print(\"iteration \" + str(i))\n",
    "        dist = np.array(dist)\n",
    "        return dist.argsort()[:k]\n",
    "    def predict(self, X_test, k):\n",
    "        num_test_objects = X_test.shape[0]\n",
    "                #print(\"num_test_objects = \" + str(num_test_objects))\n",
    "        y_pred = np.zeros(num_test_objects)\n",
    "        for i in range(num_test_objects):\n",
    "            \n",
    "            indexes = self.find_closest(X_test[i], k)\n",
    "            #print(\"dist:\")\n",
    "            #print(dist)\n",
    "            sum = 0\n",
    "            #assert len(ind[0]) == k + 1\n",
    "            #assert len(dist) == k + 1\n",
    "            for index in indexes:\n",
    "                #print(\"j = \" + str(j))\n",
    "                sum += self.Y_train[index]\n",
    "            y_pred[i] = sum * 1.0 / k\n",
    "        #print(\"len of y_pred = \" + str(len(y_pred)), y_pred)\n",
    "        assert len(y_pred) == num_test_objects\n",
    "        return y_pred"
   ]
  },
  {
   "cell_type": "code",
   "execution_count": 111,
   "metadata": {
    "collapsed": false
   },
   "outputs": [],
   "source": [
    "def cross_validation(X, y, k, cv_fold=5):\n",
    "    scores = []\n",
    "    n = len(X)\n",
    "    rnd_parts = np.random.randint(0, cv_fold, size=n)\n",
    "    #print(rnd_parts)\n",
    "    parts_x = [[] for x in range(cv_fold)]\n",
    "    #print(parts_x)\n",
    "    parts_y = [[] for x in range(cv_fold)]\n",
    "    for j in range(n):\n",
    "        parts_x[rnd_parts[j]].append(X[j])\n",
    "        parts_y[rnd_parts[j]].append(y[j])\n",
    "    for test_part in range(cv_fold):\n",
    "        X_train = []\n",
    "        Y_train = []\n",
    "        for part in range(cv_fold):\n",
    "            if test_part != part:\n",
    "                X_train += parts_x[part]\n",
    "                Y_train += parts_y[part]\n",
    "        knn = KDNN()\n",
    "        knn = knn.fit(np.asarray(X_train), np.asarray(Y_train))\n",
    "        predicted = knn.predict(np.asarray(parts_x[test_part]), k)\n",
    "        #assert len(predicted) == len(parts_x[test_part]), str(len(predicted)) + \"!= \" + str(len(parts_x[test_part]))\n",
    "        #print(\"test x len = \" + str(len(parts_x[test_part])))\n",
    "        #plot_image(np.asarray(parts_x[test_part][0]))\n",
    "        #print(parts_x[test_part])\n",
    "        #print(\"y_pred len = \" + str(len(predicted)))\n",
    "        #print(predicted)\n",
    "        rss = RSS(parts_y[test_part], predicted)\n",
    "        #print(\"acc = \" + str(acc))\n",
    "        scores.append(rss)\n",
    "    return np.mean(scores)\n"
   ]
  },
  {
   "cell_type": "code",
   "execution_count": 112,
   "metadata": {
    "collapsed": true
   },
   "outputs": [],
   "source": [
    "#make main KNN\n",
    "knn = KDNN()\n",
    "knn = knn.fit(X_train, Y_train)"
   ]
  },
  {
   "cell_type": "code",
   "execution_count": 88,
   "metadata": {
    "collapsed": false
   },
   "outputs": [],
   "source": [
    "def test_model_1ex(radiant_names, dire_names, k):\n",
    "    radiant = []\n",
    "    dire = []\n",
    "    for name in radiant_names:\n",
    "        radiant.append(heroes_dict_id_by_name[name])\n",
    "    for name in dire_names:\n",
    "        dire.append(heroes_dict_id_by_name[name])\n",
    "    radiant = sorted(radiant)\n",
    "    dire = sorted(dire)\n",
    "    X_test = [radiant + dire]\n",
    "    predict_res = knn.predict(np.asarray(X_test), k)\n",
    "    return predict_res"
   ]
  },
  {
   "cell_type": "code",
   "execution_count": null,
   "metadata": {
    "collapsed": false
   },
   "outputs": [],
   "source": [
    "import bz2\n",
    "import json\n",
    "import pprint\n",
    "#print(heroes_csv[1])\n",
    "calculated_matches = {}\n",
    "with bz2.BZ2File('shanghai_live_league_games.jsonlines.bz2') as f: \n",
    "    for line in f:\n",
    "        record = json.loads(line)\n",
    "        #print(record)\n",
    "        #break\n",
    "        if 'scoreboard' in record:\n",
    "            duration = record['scoreboard']['duration']\n",
    "        elif 'duration' in record:\n",
    "            duration = record['duration']\n",
    "        else:\n",
    "            continue\n",
    "        if duration < 300:\n",
    "            continue\n",
    "        match_id = int(record['match_id'])\n",
    "        #print('match id   ' + str(match_id))\n",
    "        if match_id in calculated_matches:\n",
    "            continue\n",
    "        calculated_matches[match_id] = 1\n",
    "        print(\"radiant name \" + str(record['radiant_team']['team_name']) + \" id = \" + str(record['radiant_team']['team_id']))\n",
    "        print(\"dire name \" + str(record['dire_team']['team_name']) + \" id = \" + str(record['dire_team']['team_id']))\n",
    "        \n",
    "        \n",
    "        radiant_list = []\n",
    "        dire_list = []\n",
    "        #pprint.pprint(record)\n",
    "        match_id = record['match_id']\n",
    "        for pl in record['players']:\n",
    "            if pl['team'] <= 1:\n",
    "                hero_id = pl['hero_id']\n",
    "                assert hero_id != 0\n",
    "                if pl['team'] == 0:\n",
    "                    radiant_list.append(hero_id)\n",
    "                else:\n",
    "                    dire_list.append(hero_id)\n",
    "                #print(heroes_dict_name_by_id[pl['hero_id']], pl['name'])\n",
    "                #print(pl['hero_id'], pl['name'])   \n",
    "        X_test = radiant_list + dire_list\n",
    "        #print('X_test')\n",
    "        #for j in X_test:\n",
    "        #    print(heroes_dict_name_by_id[j])\n",
    "        y_pred = knn.predict(np.asarray([X_test]), 50)\n",
    "        print(\"predicted: \" + str(y_pred))\n",
    "        #break\n",
    "        # process record"
   ]
  },
  {
   "cell_type": "code",
   "execution_count": 140,
   "metadata": {
    "collapsed": true
   },
   "outputs": [],
   "source": [
    "def find_closest(radiant_names, dire_names, k):\n",
    "    radiant = []\n",
    "    dire = []\n",
    "    for name in radiant_names:\n",
    "        radiant.append(heroes_dict_id_by_name[name])\n",
    "    for name in dire_names:\n",
    "        dire.append(heroes_dict_id_by_name[name])\n",
    "    radiant = sorted(radiant)\n",
    "    dire = sorted(dire)\n",
    "    X_test = radiant + dire\n",
    "    closest_list = knn.find_closest(X_test, k)\n",
    "    for number in closest_list:\n",
    "        game = knn.X_train[number]\n",
    "        print('========================\\nnumber = ' + str(number))\n",
    "        print('Radiant pick:')\n",
    "        for i in range(5):\n",
    "            print(heroes_dict_name_by_id[game.picks[i]], end=' ')\n",
    "        print('\\nDire pick:')\n",
    "        for i in range(5, 10):\n",
    "            print(heroes_dict_name_by_id[game.picks[i]], end=' ')\n",
    "        print('\\nRadiant team: ' + game.radiant_name)\n",
    "        print('Dire team: ' + game.dire_name)\n",
    "        print('Duration: ' + str(game.duration))\n",
    "        \n",
    "            \n",
    "    #return predict_res"
   ]
  },
  {
   "cell_type": "code",
   "execution_count": null,
   "metadata": {
    "collapsed": false
   },
   "outputs": [],
   "source": [
    "radiant_names = ['Earth Spirit', 'Lion', 'Invoker', 'Slark', 'Beastmaster']\n",
    "dire_names = ['Rubick', 'Death Prophet', 'Tusk', 'Nature\\'s Prophet', 'Outworld Devourer']\n",
    "find_closest(radiant_names, dire_names, 5)"
   ]
  },
  {
   "cell_type": "code",
   "execution_count": 675,
   "metadata": {
    "collapsed": true
   },
   "outputs": [],
   "source": [
    "xpm_scatter_x = []\n",
    "xpm_scatter_y = []\n",
    "gpm_scatter_x = []\n",
    "gpm_scatter_y = []"
   ]
  },
  {
   "cell_type": "code",
   "execution_count": 676,
   "metadata": {
    "collapsed": false
   },
   "outputs": [
    {
     "name": "stdout",
     "output_type": "stream",
     "text": [
      "SUMXPM: 2087/2020\n",
      "SUMGPM: 2085/1946\n"
     ]
    }
   ],
   "source": [
    "import json\n",
    "import matplotlib.pyplot as plt\n",
    "from json2html import *\n",
    "from IPython.display import HTML\n",
    "%matplotlib inline\n",
    "\n",
    "resp = requests.get('http://alchemist.dotascience.com/api/match/49/status', headers={'Key': api_key})\n",
    "resp_json = resp.json()\n",
    "#with open('tmp.json', 'w') as txtfile:\n",
    "#    json.dump(resp_json, txtfile)\n",
    "#print(resp_json)\n",
    "lh_dict = {}\n",
    "net_worth_dict = {}\n",
    "gpm_dict = {}\n",
    "xpm_dict = {}\n",
    "sum_gpm = {'dire' : 0, 'radiant' : 0}\n",
    "sum_xpm = {'dire' : 0, 'radiant' : 0}\n",
    "for side in ['dire', 'radiant']:\n",
    "    for j in range(5):\n",
    "        pl = resp_json['live_info']['scoreboard'][side]['players'][j]\n",
    "        gpm = pl['gold_per_min']\n",
    "        xpm = pl['xp_per_min']\n",
    "        net_worth = pl['net_worth']\n",
    "        hero_id = pl['hero_id']\n",
    "        hero_name = heroes_dict_name_by_id[hero_id]\n",
    "        lh = pl['last_hits']\n",
    "        #print(\"gpm = \" + str(gpm) + \" net_worth = \" + str(net_worth) + \" hero_name = \" + str(hero_name), \" lasthits = \" + str(lh))\n",
    "        full_name = hero_name + ' (' + side + ')'\n",
    "        lh_dict[full_name] = lh\n",
    "        net_worth_dict[full_name] = net_worth\n",
    "        gpm_dict[full_name] = gpm\n",
    "        xpm_dict[full_name] = xpm\n",
    "        sum_gpm[side] += gpm\n",
    "        sum_xpm[side] += xpm\n",
    "#plt.scatter(lh_dict.keys(), lh_dict.values())\n",
    "#print(lh_dict)\n",
    "print('SUMXPM: ' + str(sum_xpm['radiant']) + \"/\" + str(sum_xpm['dire']))\n",
    "print('SUMGPM: ' + str(sum_gpm['radiant']) + \"/\" + str(sum_gpm['dire']))\n",
    "diff_xpm = int(sum_xpm['radiant']) - int(sum_xpm['dire'])\n",
    "diff_gpm = int(sum_gpm['radiant']) - int(sum_gpm['dire'])\n",
    "dur = resp_json['live_info']['scoreboard']['duration']\n",
    "xpm_scatter_x.append(dur)\n",
    "xpm_scatter_y.append(diff_xpm)\n",
    "gpm_scatter_x.append(dur)\n",
    "gpm_scatter_y.append(diff_gpm)\n",
    "\n",
    "\n",
    "\n",
    "\n",
    "    \n",
    "#with open('data.json', 'w') as outfile:\n",
    "#    json.dump(resp.json(), outfile)\n",
    "    "
   ]
  },
  {
   "cell_type": "code",
   "execution_count": 677,
   "metadata": {
    "collapsed": false
   },
   "outputs": [
    {
     "data": {
      "text/plain": [
       "<matplotlib.collections.PathCollection at 0x7f172c252610>"
      ]
     },
     "execution_count": 677,
     "metadata": {},
     "output_type": "execute_result"
    },
    {
     "data": {
      "image/png": "[encoded data removed]",
      "text/plain": [
       "<matplotlib.figure.Figure at 0x7f172c457590>"
      ]
     },
     "metadata": {},
     "output_type": "display_data"
    }
   ],
   "source": [
    "#DIFF IN XPM\n",
    "plt.scatter(xpm_scatter_x, xpm_scatter_y)"
   ]
  },
  {
   "cell_type": "code",
   "execution_count": 678,
   "metadata": {
    "collapsed": false
   },
   "outputs": [
    {
     "data": {
      "text/plain": [
       "<matplotlib.collections.PathCollection at 0x7f172c1837d0>"
      ]
     },
     "execution_count": 678,
     "metadata": {},
     "output_type": "execute_result"
    },
    {
     "data": {
      "image/png": "[encoded data removed]",
      "text/plain": [
       "<matplotlib.figure.Figure at 0x7f172c219210>"
      ]
     },
     "metadata": {},
     "output_type": "display_data"
    }
   ],
   "source": [
    "#DIFF IN GPM\n",
    "plt.scatter(gpm_scatter_x, gpm_scatter_y)"
   ]
  },
  {
   "cell_type": "code",
   "execution_count": 679,
   "metadata": {
    "collapsed": false
   },
   "outputs": [
    {
     "name": "stdout",
     "output_type": "stream",
     "text": [
      "                       0    1\n",
      "0      Invoker (radiant)  310\n",
      "1  Lycanthrope (radiant)  286\n",
      "2       Dark Seer (dire)  252\n",
      "3   Death Prophet (dire)  215\n",
      "4            Ursa (dire)  209\n",
      "5  Beastmaster (radiant)  206\n",
      "6   Winter Wyvern (dire)  143\n",
      "7       Oracle (radiant)   87\n",
      "8            Lion (dire)   39\n",
      "9         Tusk (radiant)   38\n"
     ]
    }
   ],
   "source": [
    "#LASTHITS\n",
    "display(lh_dict)"
   ]
  },
  {
   "cell_type": "code",
   "execution_count": 680,
   "metadata": {
    "collapsed": false
   },
   "outputs": [
    {
     "name": "stdout",
     "output_type": "stream",
     "text": [
      "                       0      1\n",
      "0      Invoker (radiant)  24233\n",
      "1  Lycanthrope (radiant)  23317\n",
      "2   Death Prophet (dire)  18565\n",
      "3       Dark Seer (dire)  15919\n",
      "4            Ursa (dire)  15602\n",
      "5  Beastmaster (radiant)  13814\n",
      "6   Winter Wyvern (dire)   9345\n",
      "7       Oracle (radiant)   8906\n",
      "8         Tusk (radiant)   6835\n",
      "9            Lion (dire)   5086\n"
     ]
    }
   ],
   "source": [
    "#NETWORTH\n",
    "display(net_worth_dict)"
   ]
  },
  {
   "cell_type": "code",
   "execution_count": 681,
   "metadata": {
    "collapsed": false
   },
   "outputs": [
    {
     "name": "stdout",
     "output_type": "stream",
     "text": [
      "                       0    1\n",
      "0      Invoker (radiant)  606\n",
      "1  Lycanthrope (radiant)  565\n",
      "2   Death Prophet (dire)  524\n",
      "3            Ursa (dire)  458\n",
      "4       Dark Seer (dire)  443\n",
      "5  Beastmaster (radiant)  402\n",
      "6   Winter Wyvern (dire)  313\n",
      "7       Oracle (radiant)  264\n",
      "8         Tusk (radiant)  248\n",
      "9            Lion (dire)  208\n"
     ]
    }
   ],
   "source": [
    "#GPM\n",
    "display(gpm_dict)"
   ]
  },
  {
   "cell_type": "code",
   "execution_count": 682,
   "metadata": {
    "collapsed": false
   },
   "outputs": [
    {
     "name": "stdout",
     "output_type": "stream",
     "text": [
      "                       0    1\n",
      "0   Death Prophet (dire)  577\n",
      "1            Ursa (dire)  534\n",
      "2      Invoker (radiant)  525\n",
      "3  Lycanthrope (radiant)  518\n",
      "4  Beastmaster (radiant)  491\n",
      "5       Dark Seer (dire)  355\n",
      "6   Winter Wyvern (dire)  333\n",
      "7         Tusk (radiant)  289\n",
      "8       Oracle (radiant)  264\n",
      "9            Lion (dire)  221\n"
     ]
    }
   ],
   "source": [
    "#XPM\n",
    "display(xpm_dict)"
   ]
  },
  {
   "cell_type": "code",
   "execution_count": 694,
   "metadata": {
    "collapsed": false
   },
   "outputs": [
    {
     "name": "stdout",
     "output_type": "stream",
     "text": [
      "{u'match_id': 50, u'predictions': [{u'team_id': 1838315, u'probability': 0.0, u'time': 1457255762.0}, {u'team_id': 1838315, u'probability': 0.0, u'time': 1457256261.0}, {u'team_id': 1838315, u'probability': 0.0, u'time': 1457256346.0}, {u'team_id': 1838315, u'probability': 0.0, u'time': 1457256579.0}, {u'team_id': 1838315, u'probability': 0.0, u'time': 1457257019.0}, {u'team_id': 1838315, u'probability': 0.0, u'time': 1457257262.0}, {u'team_id': 1838315, u'probability': 0.5, u'time': 1457257488.0}, {u'team_id': 1838315, u'probability': 1.0, u'time': 1457257595.0}, {u'team_id': 1838315, u'probability': 0.0, u'time': 1457257676.0}], u'account_name': u'hack__mipt_rak'}\n"
     ]
    }
   ],
   "source": [
    "send(0.0)"
   ]
  },
  {
   "cell_type": "code",
   "execution_count": null,
   "metadata": {
    "collapsed": true
   },
   "outputs": [],
   "source": []
  },
  {
   "cell_type": "code",
   "execution_count": null,
   "metadata": {
    "collapsed": true
   },
   "outputs": [],
   "source": []
  },
  {
   "cell_type": "code",
   "execution_count": null,
   "metadata": {
    "collapsed": true
   },
   "outputs": [],
   "source": []
  },
  {
   "cell_type": "code",
   "execution_count": null,
   "metadata": {
    "collapsed": true
   },
   "outputs": [],
   "source": []
  }
 ],
 "metadata": {
  "kernelspec": {
   "display_name": "Python 2",
   "language": "python",
   "name": "python2"
  },
  "language_info": {
   "codemirror_mode": {
    "name": "ipython",
    "version": 2
   },
   "file_extension": ".py",
   "mimetype": "text/x-python",
   "name": "python",
   "nbconvert_exporter": "python",
   "pygments_lexer": "ipython2",
   "version": "2.7.10"
  }
 },
 "nbformat": 4,
 "nbformat_minor": 0
}
